{
 "cells": [
  {
   "cell_type": "code",
   "execution_count": 9,
   "metadata": {},
   "outputs": [
    {
     "data": {
      "text/plain": [
       "True"
      ]
     },
     "execution_count": 9,
     "metadata": {},
     "output_type": "execute_result"
    }
   ],
   "source": [
    "import pandas as pd\n",
    "from src import connectCollection as cc\n",
    "import numpy as np\n",
    "from sklearn.model_selection import train_test_split\n",
    "from sklearn.ensemble import GradientBoostingRegressor\n",
    "from dotenv import load_dotenv\n",
    "load_dotenv()"
   ]
  },
  {
   "cell_type": "code",
   "execution_count": 4,
   "metadata": {},
   "outputs": [],
   "source": [
    "db, col = cc.connectCollection(\"Pisos\", \"total\")"
   ]
  },
  {
   "cell_type": "code",
   "execution_count": 5,
   "metadata": {},
   "outputs": [],
   "source": [
    "query = list(col.find())"
   ]
  },
  {
   "cell_type": "code",
   "execution_count": 14,
   "metadata": {},
   "outputs": [],
   "source": [
    "def prediction(district, propertyt, m2, rooms):\n",
    "    query = list(col.find())\n",
    "    df = pd.DataFrame(query)\n",
    "    df.Property_Type = df.Property_Type.replace({'flat':1, 'penthouse':2, 'studio':3, 'duplex':4, 'chalet':5, 'countryHouse':6})\n",
    "    df.District=df.District.replace({'salamanca':1, 'centro':2, 'chamartin':3, 'chamberi':4, 'tetuan':5, 'moncloa':6, 'retiro':7, 'hortaleza':8, 'arganzuela':9, '':10})\n",
    "    columns = ['Street', 'location']\n",
    "    df.drop(columns, axis=1, inplace=True)\n",
    "    X = df[['District', 'Property_Type', 'm2', 'Rooms']]\n",
    "    y = df['Price']\n",
    "    X_train, X_test, y_train, y_test = train_test_split(X,y,test_size=0.1)\n",
    "    reg = GradientBoostingRegressor()\n",
    "    reg.fit(X_train, y_train)\n",
    "    prueba = pd.DataFrame({\"District\":district, \"Property_Type\":propertyt, \"m2\":m2, \"Rooms\":rooms}, index=[0])\n",
    "    d= reg.predict(prueba)\n",
    "    return str(d)"
   ]
  },
  {
   "cell_type": "code",
   "execution_count": 15,
   "metadata": {},
   "outputs": [
    {
     "data": {
      "text/plain": [
       "'[3128.19180149]'"
      ]
     },
     "execution_count": 15,
     "metadata": {},
     "output_type": "execute_result"
    }
   ],
   "source": [
    "prediction(3, 5, 211,4)"
   ]
  },
  {
   "cell_type": "code",
   "execution_count": null,
   "metadata": {},
   "outputs": [],
   "source": []
  }
 ],
 "metadata": {
  "kernelspec": {
   "display_name": "Python 3",
   "language": "python",
   "name": "python3"
  },
  "language_info": {
   "codemirror_mode": {
    "name": "ipython",
    "version": 3
   },
   "file_extension": ".py",
   "mimetype": "text/x-python",
   "name": "python",
   "nbconvert_exporter": "python",
   "pygments_lexer": "ipython3",
   "version": "3.7.5rc1"
  }
 },
 "nbformat": 4,
 "nbformat_minor": 2
}
