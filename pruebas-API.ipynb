{
 "cells": [
  {
   "cell_type": "code",
   "execution_count": 68,
   "metadata": {},
   "outputs": [],
   "source": [
    "import pandas as pd\n",
    "import requests as rq\n",
    "from dotenv import load_dotenv\n",
    "import base64\n",
    "import os\n",
    "import urllib\n",
    "import json\n",
    "load_dotenv()\n",
    "from src import API as api"
   ]
  },
  {
   "cell_type": "code",
   "execution_count": 69,
   "metadata": {},
   "outputs": [
    {
     "name": "stderr",
     "output_type": "stream",
     "text": [
      "/home/joaquin/.local/lib/python3.7/site-packages/ipykernel_launcher.py:27: FutureWarning: Sorting because non-concatenation axis is not aligned. A future version\n",
      "of pandas will change to not sort by default.\n",
      "\n",
      "To accept the future behavior, pass 'sort=False'.\n",
      "\n",
      "To retain the current behavior and silence the warning, pass 'sort=True'.\n",
      "\n"
     ]
    }
   ],
   "source": [
    "country = 'es' #values: es, it, pt\n",
    "locale = 'es' #values: es, it, pt, en, ca\n",
    "language = 'es' #\n",
    "max_items = '50'\n",
    "operation = 'rent' \n",
    "property_type = 'homes'\n",
    "order = 'priceDown' \n",
    "center = '40.24594,-3.42922' \n",
    "distance = '60000'\n",
    "sort = 'desc'\n",
    "\n",
    "df_tot = pd.DataFrame()\n",
    "limit = 20\n",
    "\n",
    "for i in range(1,limit):\n",
    "    url = ('https://api.idealista.com/3.5/'+country+'/search?operation='+operation+#\"&locale=\"+locale+\n",
    "           '&maxItems='+max_items+\n",
    "           '&order='+order+\n",
    "           '&center='+center+\n",
    "           '&distance='+distance+\n",
    "           '&propertyType='+property_type+\n",
    "           '&sort='+sort+ \n",
    "           '&numPage=%s'+\n",
    "           '&language='+language) %(i)  \n",
    "    a = api.search_api(api.get_oauth_token(), url)\n",
    "    df = pd.DataFrame.from_dict(a['elementList'])\n",
    "    df_tot = pd.concat([df_tot,df])\n",
    "\n",
    "df_tot = df_tot.reset_index()"
   ]
  },
  {
   "cell_type": "code",
   "execution_count": 107,
   "metadata": {},
   "outputs": [
    {
     "data": {
      "text/plain": [
       "Centro          151\n",
       "Salamanca       118\n",
       "Chamartín        81\n",
       "Chamberí         73\n",
       "Moncloa          51\n",
       "               ... \n",
       "Suroeste          1\n",
       "El Puerto         1\n",
       "Zona Europa       1\n",
       "Parla Este        1\n",
       "Zarzaquemada      1\n",
       "Name: district, Length: 95, dtype: int64"
      ]
     },
     "execution_count": 107,
     "metadata": {},
     "output_type": "execute_result"
    }
   ],
   "source": [
    "df_tot['district'].value_counts()"
   ]
  },
  {
   "cell_type": "code",
   "execution_count": 101,
   "metadata": {},
   "outputs": [
    {
     "data": {
      "text/plain": [
       "index                  0\n",
       "address                0\n",
       "bathrooms              0\n",
       "detailedType           0\n",
       "distance               0\n",
       "district              46\n",
       "exterior               0\n",
       "externalReference    200\n",
       "floor                153\n",
       "latitude               0\n",
       "longitude              0\n",
       "municipality           0\n",
       "neighborhood         206\n",
       "operation              0\n",
       "parkingSpace         594\n",
       "price                  0\n",
       "priceByArea            0\n",
       "propertyCode           0\n",
       "propertyType           0\n",
       "rooms                  0\n",
       "showAddress            0\n",
       "size                   0\n",
       "status                76\n",
       "suggestedTexts         0\n",
       "dtype: int64"
      ]
     },
     "execution_count": 101,
     "metadata": {},
     "output_type": "execute_result"
    }
   ],
   "source": [
    "df_tot.isna().sum()"
   ]
  },
  {
   "cell_type": "code",
   "execution_count": 104,
   "metadata": {},
   "outputs": [],
   "source": [
    "col = ['status', 'operation', 'showAddress']\n",
    "df_tot.drop(col, axis=1, inplace=True)"
   ]
  },
  {
   "cell_type": "code",
   "execution_count": 105,
   "metadata": {},
   "outputs": [
    {
     "data": {
      "text/plain": [
       "(950, 21)"
      ]
     },
     "execution_count": 105,
     "metadata": {},
     "output_type": "execute_result"
    }
   ],
   "source": [
    "df_tot.shape"
   ]
  },
  {
   "cell_type": "code",
   "execution_count": null,
   "metadata": {},
   "outputs": [],
   "source": []
  },
  {
   "cell_type": "code",
   "execution_count": 96,
   "metadata": {},
   "outputs": [],
   "source": [
    "df1 = df_tot.groupby('district', as_index=False).agg({'price':'mean'})"
   ]
  },
  {
   "cell_type": "code",
   "execution_count": null,
   "metadata": {},
   "outputs": [],
   "source": []
  },
  {
   "cell_type": "code",
   "execution_count": null,
   "metadata": {},
   "outputs": [],
   "source": []
  }
 ],
 "metadata": {
  "kernelspec": {
   "display_name": "Python 3",
   "language": "python",
   "name": "python3"
  },
  "language_info": {
   "codemirror_mode": {
    "name": "ipython",
    "version": 3
   },
   "file_extension": ".py",
   "mimetype": "text/x-python",
   "name": "python",
   "nbconvert_exporter": "python",
   "pygments_lexer": "ipython3",
   "version": "3.7.5rc1"
  }
 },
 "nbformat": 4,
 "nbformat_minor": 2
}
